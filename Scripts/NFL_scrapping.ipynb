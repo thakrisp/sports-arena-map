{
 "cells": [
  {
   "cell_type": "markdown",
   "source": [
    "!pip install BeautifulSoup4, lxml, pandas, requests, IPython, googlemaps"
   ],
   "metadata": {
    "tags": []
   }
  },
  {
   "cell_type": "code",
   "execution_count": null,
   "source": [
    "import json, config\r\n",
    "from urllib.request import urlopen\r\n",
    "from bs4 import BeautifulSoup\r\n",
    "import googlemaps"
   ],
   "outputs": [],
   "metadata": {}
  },
  {
   "cell_type": "code",
   "execution_count": null,
   "source": [
    "gmaps = googlemaps.Client(key=config.google_api_key)"
   ],
   "outputs": [],
   "metadata": {}
  },
  {
   "cell_type": "code",
   "execution_count": null,
   "source": [
    "url = \"https://en.wikipedia.org/wiki/List_of_current_National_Football_League_stadiums\""
   ],
   "outputs": [],
   "metadata": {}
  },
  {
   "cell_type": "code",
   "execution_count": null,
   "source": [
    "page = urlopen(url)"
   ],
   "outputs": [],
   "metadata": {}
  },
  {
   "cell_type": "code",
   "execution_count": null,
   "source": [
    "soup = BeautifulSoup(page, \"lxml\")"
   ],
   "outputs": [],
   "metadata": {}
  },
  {
   "cell_type": "code",
   "execution_count": null,
   "source": [
    "first_table = soup.find('table', class_='wikitable sortable plainrowheaders')"
   ],
   "outputs": [],
   "metadata": {}
  },
  {
   "cell_type": "code",
   "execution_count": null,
   "source": [
    "A=[] #IMG\r\n",
    "B=[] #Arena\r\n",
    "C=[] #Capacity\r\n",
    "D=[] #City\r\n",
    "E=[] #surface\r\n",
    "F=[] #Roof Type\r\n",
    "G=[] #Team(s)\r\n",
    "H=[] #Opened\r\n",
    "I=[] #State"
   ],
   "outputs": [],
   "metadata": {}
  },
  {
   "cell_type": "code",
   "execution_count": null,
   "source": [
    "for row in first_table.findAll('tr'):\r\n",
    "    cells = row.findAll(['td', 'th'])\r\n",
    "    if cells[0].find(scope_=lambda x: x != 'col'):\r\n",
    "\r\n",
    "        A.append(cells[0].find('img')['src'].replace(\"120px\", \"250px\"))\r\n",
    "        B.append(cells[1].find(text=True))\r\n",
    "        C.append(cells[2].find(text=True).rstrip('\\n'))\r\n",
    "        ##this splits the city and state then puts them in their own arrays.\r\n",
    "        location = cells[3].find(text=True).split(',')\r\n",
    "        \r\n",
    "        D.append(location[0])\r\n",
    "        I.append(location[1].lstrip())\r\n",
    "        E.append(cells[4].find(text=True).rstrip('\\n'))\r\n",
    "        F.append(cells[5].find(text=True).rstrip('\\n'))\r\n",
    "        teams = cells[6].findAll('a')\r\n",
    "        if len(teams) > 1 :\r\n",
    "            tempArray= []\r\n",
    "            for i in teams:\r\n",
    "                tempArray.append(str(i.find_all(text=True)).rstrip('[')[2:len(i)-3])\r\n",
    "            G.append(\" and \".join(tempArray))\r\n",
    "        else:\r\n",
    "            G.append(cells[6].find(text=True))\r\n",
    "        H.append(cells[7].find(text=True).rstrip('\\n'))\r\n"
   ],
   "outputs": [],
   "metadata": {}
  },
  {
   "cell_type": "code",
   "execution_count": null,
   "source": [
    "import pandas as pd\r\n",
    "df=pd.DataFrame(G,columns=['Team'])\r\n",
    "df['Arena']= B\r\n",
    "df['City']= D\r\n",
    "df['State'] = I\r\n",
    "df['Capacity']= C\r\n",
    "df['opened']= H\r\n",
    "df['surface']= E\r\n",
    "df['Roof Type']= F\r\n",
    "df['image']= A\r\n",
    "df"
   ],
   "outputs": [],
   "metadata": {}
  },
  {
   "cell_type": "code",
   "execution_count": null,
   "source": [
    "location = [];\r\n",
    "for i in range(len(B)):\r\n",
    "    searchTerm = B[i] + \", \" + D[i] + \",\" + I[i]\r\n",
    "    geocode_result = gmaps.geocode(searchTerm)\r\n",
    "    data = geocode_result[0]['geometry']['location']\r\n",
    "    tempArray = []\r\n",
    "    tempArray.append(float(data['lng']))\r\n",
    "    tempArray.append(float(data['lat']))\r\n",
    "    location.append(tempArray[::-1])\r\n"
   ],
   "outputs": [],
   "metadata": {
    "tags": []
   }
  },
  {
   "cell_type": "code",
   "execution_count": null,
   "source": [
    "final_data = []\r\n",
    "for i in range(len(A)):\r\n",
    "    temp={}\r\n",
    "    temp['Image'] = \"HTTPS:\" + A[i]\r\n",
    "    temp['Team'] = G[i]\r\n",
    "    temp['Arena'] = B[i]\r\n",
    "    temp['Location'] = D[i] + \", \" + I[i]\r\n",
    "    temp['Surface'] = E[i]\r\n",
    "    temp['Roof Type'] = F[i]\r\n",
    "    temp['Capacity'] = C[i]\r\n",
    "    temp['opened'] = H[i]\r\n",
    "    temp['Coordinates'] = location[i]\r\n",
    "    final_data.append(temp)"
   ],
   "outputs": [],
   "metadata": {}
  },
  {
   "cell_type": "code",
   "execution_count": null,
   "source": [
    "print(len(final_data))"
   ],
   "outputs": [],
   "metadata": {
    "tags": []
   }
  },
  {
   "cell_type": "code",
   "execution_count": null,
   "source": [
    "with open('NFL.json', 'w') as outfile:\r\n",
    "    json.dump(final_data, outfile)"
   ],
   "outputs": [],
   "metadata": {}
  },
  {
   "cell_type": "code",
   "execution_count": null,
   "source": [
    "import requests, IPython.display as Disp\r\n",
    "url = final_data[8]['Image']\r\n",
    "Disp.Image(requests.get(url).content)"
   ],
   "outputs": [],
   "metadata": {}
  }
 ],
 "metadata": {
  "language_info": {
   "codemirror_mode": {
    "name": "ipython",
    "version": 3
   },
   "file_extension": ".py",
   "mimetype": "text/x-python",
   "name": "python",
   "nbconvert_exporter": "python",
   "pygments_lexer": "ipython3",
   "version": "3.9.7"
  },
  "orig_nbformat": 2,
  "kernelspec": {
   "name": "python3",
   "display_name": "Python 3.9.7 64-bit"
  },
  "interpreter": {
   "hash": "98ae2c6886976d2f53cbfd30bcc7553c7b18e37f2dd4dd941152ed9e9043accf"
  }
 },
 "nbformat": 4,
 "nbformat_minor": 2
}
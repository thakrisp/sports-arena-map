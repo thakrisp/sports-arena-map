{
 "cells": [
  {
   "cell_type": "markdown",
   "source": [
    "!pip install BeautifulSoup4, lxml, mapbox, pandas, requests, IPython, googlemaps\r\n"
   ],
   "metadata": {
    "tags": []
   }
  },
  {
   "cell_type": "code",
   "execution_count": null,
   "source": [
    "import json, config\r\n",
    "from urllib.request import urlopen\r\n",
    "from bs4 import BeautifulSoup\r\n",
    "import googlemaps"
   ],
   "outputs": [],
   "metadata": {}
  },
  {
   "cell_type": "code",
   "execution_count": null,
   "source": [
    "from datetime import datetime\r\n",
    "\r\n",
    "gmaps = googlemaps.Client(key=config.google_api_key)"
   ],
   "outputs": [],
   "metadata": {}
  },
  {
   "cell_type": "markdown",
   "source": [
    "from mapbox import Geocoder\r\n",
    "geocoder = Geocoder(access_token=config.api_key)"
   ],
   "metadata": {}
  },
  {
   "cell_type": "code",
   "execution_count": null,
   "source": [
    "url = \"https://en.wikipedia.org/wiki/List_of_current_Major_League_Baseball_stadiums\""
   ],
   "outputs": [],
   "metadata": {}
  },
  {
   "cell_type": "code",
   "execution_count": null,
   "source": [
    "page = urlopen(url)"
   ],
   "outputs": [],
   "metadata": {}
  },
  {
   "cell_type": "code",
   "execution_count": null,
   "source": [
    "soup = BeautifulSoup(page, \"lxml\")\r\n",
    "#print(soup.prettify())"
   ],
   "outputs": [],
   "metadata": {}
  },
  {
   "cell_type": "code",
   "execution_count": null,
   "source": [
    "first_table = soup.find(\r\n",
    "    'table', class_='wikitable sortable plainrowheaders')\r\n"
   ],
   "outputs": [],
   "metadata": {}
  },
  {
   "cell_type": "code",
   "execution_count": null,
   "source": [
    "A=[] #IMG\r\n",
    "B=[] #Arena\r\n",
    "C=[] #Capacity\r\n",
    "D=[] #City\r\n",
    "E=[] #Surface\r\n",
    "F=[] #Team\r\n",
    "G=[] #Opened\r\n",
    "H=[] #Design\r\n",
    "I=[] #Roof Type\r\n",
    "J=[] #State"
   ],
   "outputs": [],
   "metadata": {}
  },
  {
   "cell_type": "code",
   "execution_count": null,
   "source": [
    "for row in first_table.findAll('tr'):\r\n",
    "    cells=row.findAll(['td','th'])\r\n",
    "    if cells[0].find(scope_=lambda x: x != 'col'):\r\n",
    "        A.append(cells[0].find('img')['src'].replace(\"120px\", \"250px\"))\r\n",
    "        B.append(cells[1].find(text=True))\r\n",
    "        ###this splits the city and state then puts them in their own arrays.\r\n",
    "        location = cells[3].find(text=True).split(',')\r\n",
    "        D.append(location[0])\r\n",
    "        J.append(location[1].lstrip())\r\n",
    "        C.append(cells[2].find(text=True).rstrip('\\n'))\r\n",
    "        E.append(cells[4].find(text=True).rstrip('\\n'))\r\n",
    "        F.append(cells[5].find(text=True))\r\n",
    "        G.append(cells[6].find(text=True).rstrip('\\n'))\r\n",
    "        H.append(cells[8].find(text=True))\r\n",
    "        I.append(cells[9].find(text=True).rstrip('\\n'))\r\n"
   ],
   "outputs": [],
   "metadata": {}
  },
  {
   "cell_type": "code",
   "execution_count": null,
   "source": [
    "import pandas as pd\r\n",
    "df=pd.DataFrame(F,columns=['Team'])\r\n",
    "df['Arena']=B\r\n",
    "df['City']=D\r\n",
    "df['State'] = J\r\n",
    "df['Capacity']=C\r\n",
    "df['opened']=G\r\n",
    "df['surface']=E\r\n",
    "df['Roof Type']=I\r\n",
    "df['Design']=H\r\n",
    "df['image']=A\r\n",
    "df"
   ],
   "outputs": [],
   "metadata": {}
  },
  {
   "cell_type": "code",
   "execution_count": 26,
   "source": [
    "location = [];\r\n",
    "for i in range(len(B)):\r\n",
    "    searchTerm = B[i] + \", \" + J[i]\r\n",
    "    geocode_result = gmaps.geocode(searchTerm)\r\n",
    "    data = geocode_result[0]['geometry']['location']\r\n",
    "    tempArray = []\r\n",
    "    tempArray.append(float(data['lng']))\r\n",
    "    tempArray.append(float(data['lat']))\r\n",
    "    location.append(tempArray[::-1])"
   ],
   "outputs": [
    {
     "output_type": "stream",
     "name": "stdout",
     "text": [
      "[[43.0279776, -87.9711504], [33.800308, -117.8827321], [38.6226188, -90.1928209], [33.4453344, -112.0667091], [40.7570877, -73.8458213], [39.9060572, -75.1664952], [42.33899840000001, -83.0485197], [39.7558823, -104.9941781], [34.073851, -118.2399583], [42.3466764, -71.0972178], [32.7474557, -97.0838351], [39.0973808, -84.5070714], [41.8299021, -87.63375219999999], [39.0516719, -94.4803142], [25.7781487, -80.2195998], [29.7572694, -95.3555143], [38.8730102, -77.0074329], [37.7515946, -122.2005458], [37.7785951, -122.3892698], [39.2839354, -76.6215654], [32.7076035, -117.157036], [40.446941, -80.0057054], [41.496211, -81.6852289], [43.64177979999999, -79.38914369999999], [47.5914026, -122.3325085], [44.98174299999999, -93.27762919999999], [27.7682246, -82.65339209999999], [33.8910646, -84.4684498], [41.9484384, -87.6553327], [40.8296426, -73.9261745]]\n"
     ]
    }
   ],
   "metadata": {
    "tags": []
   }
  },
  {
   "cell_type": "markdown",
   "source": [
    "response = geocoder.forward(B[0] + \", \" + D[0] + \", \" + J[0])\r\n",
    "collection = response.json()\r\n",
    "data = collection['features'][0]['geometry']['coordinates']\r\n"
   ],
   "metadata": {
    "tags": []
   }
  },
  {
   "cell_type": "code",
   "execution_count": 27,
   "source": [
    "final_data = []\r\n",
    "for i in range(len(A)):\r\n",
    "    temp={}\r\n",
    "    temp['Image'] = \"HTTPS:\" + A[i]\r\n",
    "    temp['Team'] = F[i]\r\n",
    "    temp['Arena'] = B[i]\r\n",
    "    temp['Location'] = D[i] + \", \" + J[i]\r\n",
    "    temp['Capacity'] = C[i]\r\n",
    "    temp['opened'] = G[i]\r\n",
    "    temp['Surface'] = E[i]\r\n",
    "    temp['Roof Type'] = I[i]\r\n",
    "    temp['Design'] = H[i]\r\n",
    "    temp['Coordinates'] = location[i]\r\n",
    "    final_data.append(temp)"
   ],
   "outputs": [],
   "metadata": {}
  },
  {
   "cell_type": "code",
   "execution_count": null,
   "source": [
    "print(len(final_data))"
   ],
   "outputs": [],
   "metadata": {
    "tags": []
   }
  },
  {
   "cell_type": "code",
   "execution_count": 28,
   "source": [
    "with open('MLB.json', 'w') as outfile:\r\n",
    "    json.dump(final_data, outfile)"
   ],
   "outputs": [],
   "metadata": {}
  },
  {
   "cell_type": "code",
   "execution_count": null,
   "source": [
    "import requests, IPython.display as Disp\r\n",
    "url = final_data[6]['Image']\r\n",
    "Disp.Image(requests.get(url).content)"
   ],
   "outputs": [],
   "metadata": {}
  },
  {
   "cell_type": "code",
   "execution_count": null,
   "source": [
    "print(url)"
   ],
   "outputs": [],
   "metadata": {}
  },
  {
   "cell_type": "markdown",
   "source": [],
   "metadata": {}
  }
 ],
 "metadata": {
  "language_info": {
   "codemirror_mode": {
    "name": "ipython",
    "version": 3
   },
   "file_extension": ".py",
   "mimetype": "text/x-python",
   "name": "python",
   "nbconvert_exporter": "python",
   "pygments_lexer": "ipython3",
   "version": "3.9.7"
  },
  "orig_nbformat": 2,
  "kernelspec": {
   "name": "python3",
   "display_name": "Python 3.9.7 64-bit"
  },
  "interpreter": {
   "hash": "98ae2c6886976d2f53cbfd30bcc7553c7b18e37f2dd4dd941152ed9e9043accf"
  }
 },
 "nbformat": 4,
 "nbformat_minor": 2
}
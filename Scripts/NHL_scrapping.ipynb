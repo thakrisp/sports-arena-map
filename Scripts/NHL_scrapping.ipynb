{
 "cells": [
  {
   "cell_type": "markdown",
   "source": [
    "!pip install BeautifulSoup4, lxml, mapbox, pandas, requests, IPython"
   ],
   "metadata": {
    "tags": []
   }
  },
  {
   "cell_type": "code",
   "execution_count": null,
   "source": [
    "import json, config\r\n",
    "from urllib.request import urlopen\r\n",
    "from bs4 import BeautifulSoup"
   ],
   "outputs": [],
   "metadata": {}
  },
  {
   "cell_type": "code",
   "execution_count": null,
   "source": [
    "from mapbox import Geocoder\r\n",
    "geocoder = Geocoder(access_token=config.api_key)"
   ],
   "outputs": [],
   "metadata": {}
  },
  {
   "cell_type": "code",
   "execution_count": null,
   "source": [
    "url = \"https://en.wikipedia.org/wiki/List_of_National_Hockey_League_arenas\""
   ],
   "outputs": [],
   "metadata": {}
  },
  {
   "cell_type": "code",
   "execution_count": null,
   "source": [
    "page = urlopen(url)"
   ],
   "outputs": [],
   "metadata": {}
  },
  {
   "cell_type": "code",
   "execution_count": null,
   "source": [
    "soup = BeautifulSoup(page, \"lxml\")"
   ],
   "outputs": [],
   "metadata": {}
  },
  {
   "cell_type": "markdown",
   "source": [
    "print(soup.prettify())"
   ],
   "metadata": {
    "tags": []
   }
  },
  {
   "cell_type": "code",
   "execution_count": null,
   "source": [
    "first_table = soup.find('table', class_= 'wikitable sortable')"
   ],
   "outputs": [],
   "metadata": {}
  },
  {
   "cell_type": "code",
   "execution_count": null,
   "source": [
    "A=[] #IMG\r\n",
    "B=[] #Arena\r\n",
    "C=[] #City\r\n",
    "D=[] #Team\r\n",
    "E=[] #Capacity\r\n",
    "F=[] #Opened\r\n",
    "G=[] #First Season\r\n",
    "H=[] #State"
   ],
   "outputs": [],
   "metadata": {}
  },
  {
   "cell_type": "code",
   "execution_count": null,
   "source": [
    "for row in first_table.findAll('tr'):\r\n",
    "    cells=row.findAll('td')\r\n",
    "    if len(cells)==8:\r\n",
    "        A.append(cells[0].find('img')['src'].replace(\"120px\", \"250px\"))\r\n",
    "        B.append(cells[1].find(text=True))\r\n",
    "        #this splits the city and state then puts them in their own arrays.\r\n",
    "        location = cells[2].find(text=True).split(',')\r\n",
    "\r\n",
    "        C.append(location[0])\r\n",
    "        H.append(location[1].lstrip())\r\n",
    "        D.append(cells[3].find(text=True))\r\n",
    "        E.append(cells[4].find(text=True).rstrip('\\n'))\r\n",
    "        F.append(cells[5].find(text=True).rstrip('\\n').rstrip('\\u2020').replace(' ', ''))\r\n",
    "        G.append(cells[6].find(text=True).rstrip('\\n').replace('\\u2013', '-'))"
   ],
   "outputs": [],
   "metadata": {}
  },
  {
   "cell_type": "code",
   "execution_count": null,
   "source": [
    "import pandas as pd\r\n",
    "df=pd.DataFrame(D,columns=['Team'])\r\n",
    "df['Arena']=B\r\n",
    "df['City']=C\r\n",
    "df['State'] = H\r\n",
    "df['Capacity']=E\r\n",
    "df['opened']=F\r\n",
    "df['firstSeason']=G\r\n",
    "df['image']=A\r\n",
    "df"
   ],
   "outputs": [],
   "metadata": {}
  },
  {
   "cell_type": "code",
   "execution_count": null,
   "source": [
    "location = [];\r\n",
    "for i in range(len(B)):\r\n",
    "    searchTerm = B[i] + \", \" + C[i]\r\n",
    "    #print(searchTerm)\r\n",
    "    response = geocoder.forward(searchTerm)\r\n",
    "    collection = response.json()\r\n",
    "    data = collection['features'][0]['geometry']['coordinates']\r\n",
    "    location.append(data[::-1])"
   ],
   "outputs": [],
   "metadata": {
    "tags": []
   }
  },
  {
   "cell_type": "code",
   "execution_count": null,
   "source": [
    "response = geocoder.forward('Bell Centre,  Quebec')\r\n",
    "collection = response.json()\r\n",
    "data = collection['features'][0]['geometry']['coordinates']\r\n",
    "#print(collection);"
   ],
   "outputs": [],
   "metadata": {
    "tags": []
   }
  },
  {
   "cell_type": "code",
   "execution_count": null,
   "source": [
    "final_data = []\r\n",
    "for i in range(len(A)):\r\n",
    "    temp={}\r\n",
    "    temp['Image'] = \"HTTPS:\" + A[i]\r\n",
    "    temp['Team'] = D[i]\r\n",
    "    temp['Arena'] = B[i]\r\n",
    "    temp['Location'] = C[i]\r\n",
    "    temp['Capacity'] = E[i]\r\n",
    "    temp['opened'] = F[i]\r\n",
    "    temp['First Season'] = G[i]\r\n",
    "    temp['Coordinates'] = location[i]\r\n",
    "    final_data.append(temp)"
   ],
   "outputs": [],
   "metadata": {}
  },
  {
   "cell_type": "code",
   "execution_count": null,
   "source": [
    "print(len(final_data))"
   ],
   "outputs": [],
   "metadata": {
    "tags": []
   }
  },
  {
   "cell_type": "code",
   "execution_count": null,
   "source": [
    "with open('NHL.json', 'w') as outfile:\r\n",
    "    json.dump(final_data, outfile)"
   ],
   "outputs": [],
   "metadata": {}
  },
  {
   "cell_type": "code",
   "execution_count": null,
   "source": [
    "import requests, IPython.display as Disp\r\n",
    "url = final_data[14]['Image']\r\n",
    "Disp.Image(requests.get(url).content)"
   ],
   "outputs": [],
   "metadata": {}
  },
  {
   "cell_type": "code",
   "execution_count": null,
   "source": [
    "print(url)"
   ],
   "outputs": [],
   "metadata": {}
  }
 ],
 "metadata": {
  "language_info": {
   "codemirror_mode": {
    "name": "ipython",
    "version": 3
   },
   "file_extension": ".py",
   "mimetype": "text/x-python",
   "name": "python",
   "nbconvert_exporter": "python",
   "pygments_lexer": "ipython3",
   "version": "3.9.7"
  },
  "orig_nbformat": 2,
  "kernelspec": {
   "name": "python3",
   "display_name": "Python 3.9.7 64-bit"
  },
  "interpreter": {
   "hash": "98ae2c6886976d2f53cbfd30bcc7553c7b18e37f2dd4dd941152ed9e9043accf"
  }
 },
 "nbformat": 4,
 "nbformat_minor": 2
}